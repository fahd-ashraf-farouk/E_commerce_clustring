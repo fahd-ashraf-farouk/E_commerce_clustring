{
 "cells": [
  {
   "cell_type": "code",
   "execution_count": 1,
   "id": "f7093b48",
   "metadata": {},
   "outputs": [],
   "source": [
    "import pandas as pd"
   ]
  },
  {
   "cell_type": "code",
   "execution_count": 77,
   "id": "b230d55c",
   "metadata": {},
   "outputs": [
    {
     "name": "stdout",
     "output_type": "stream",
     "text": [
      "Index(['merchant_id', 'merchant_name'], dtype='object')\n",
      "Index(['gender_id', 'gender_name'], dtype='object')\n",
      "Index(['city_id', 'city_name'], dtype='object')\n",
      "Index(['branch_id', 'merchant_id'], dtype='object')\n",
      "Index(['transaction_id', 'customer_id', 'transaction_date',\n",
      "       'transaction_status', 'coupon_name', 'burn_date', 'branch_id'],\n",
      "      dtype='object')\n",
      "Index(['customer_id', 'join_date', 'city_id', 'gender_id'], dtype='object')\n"
     ]
    }
   ],
   "source": [
    "customers = pd.read_csv(\"customers.csv\")\n",
    "transactions = pd.read_csv(\"transactions.csv\")\n",
    "branches= pd.read_csv(\"branches.csv\")\n",
    "cities= pd.read_csv(\"cities.csv\")\n",
    "genders= pd.read_csv(\"genders.csv\")\n",
    "merchants= pd.read_csv(\"merchants.csv\")\n",
    "print(merchants.columns)\n",
    "print(genders.columns)\n",
    "print(cities.columns)\n",
    "print(branches.columns)\n",
    "print(transactions.columns)\n",
    "print(customers.columns)"
   ]
  },
  {
   "cell_type": "markdown",
   "id": "533235f7",
   "metadata": {},
   "source": [
    "# Data preprocessing"
   ]
  },
  {
   "cell_type": "code",
   "execution_count": 83,
   "id": "5934678a",
   "metadata": {},
   "outputs": [
    {
     "name": "stdout",
     "output_type": "stream",
     "text": [
      "Index(['customer_id', 'join_date', 'city_id', 'gender_id', 'gender_name'], dtype='object')\n"
     ]
    }
   ],
   "source": [
    "custmer_data = pd.merge(customers,genders,on=\"gender_id\")"
   ]
  },
  {
   "cell_type": "code",
   "execution_count": 42,
   "id": "27d6af68",
   "metadata": {},
   "outputs": [
    {
     "name": "stdout",
     "output_type": "stream",
     "text": [
      "Index(['customer_id', 'join_date', 'city_id', 'gender_id', 'gender_name',\n",
      "       'transaction_id', 'transaction_date', 'transaction_status',\n",
      "       'coupon_name', 'burn_date', 'branch_id'],\n",
      "      dtype='object')\n"
     ]
    }
   ],
   "source": [
    "custmer_data = pd.merge(custmer_data,transactions,on=\"customer_id\")"
   ]
  },
  {
   "cell_type": "code",
   "execution_count": 43,
   "id": "4bebe41c",
   "metadata": {},
   "outputs": [
    {
     "name": "stdout",
     "output_type": "stream",
     "text": [
      "Index(['customer_id', 'join_date', 'city_id', 'gender_id', 'gender_name',\n",
      "       'transaction_id', 'transaction_date', 'transaction_status',\n",
      "       'coupon_name', 'burn_date', 'branch_id', 'merchant_id'],\n",
      "      dtype='object')\n"
     ]
    }
   ],
   "source": [
    "custmer_data = pd.merge(custmer_data,branches,on=\"branch_id\")"
   ]
  },
  {
   "cell_type": "code",
   "execution_count": 44,
   "id": "131c1b48",
   "metadata": {},
   "outputs": [
    {
     "name": "stdout",
     "output_type": "stream",
     "text": [
      "Index(['customer_id', 'join_date', 'city_id', 'gender_id', 'gender_name',\n",
      "       'transaction_id', 'transaction_date', 'transaction_status',\n",
      "       'coupon_name', 'burn_date', 'branch_id', 'merchant_id', 'city_name'],\n",
      "      dtype='object')\n"
     ]
    }
   ],
   "source": [
    "custmer_data = pd.merge(custmer_data,cities,on=\"city_id\")"
   ]
  },
  {
   "cell_type": "code",
   "execution_count": 45,
   "id": "7f577888",
   "metadata": {},
   "outputs": [
    {
     "data": {
      "text/html": [
       "<div>\n",
       "<style scoped>\n",
       "    .dataframe tbody tr th:only-of-type {\n",
       "        vertical-align: middle;\n",
       "    }\n",
       "\n",
       "    .dataframe tbody tr th {\n",
       "        vertical-align: top;\n",
       "    }\n",
       "\n",
       "    .dataframe thead th {\n",
       "        text-align: right;\n",
       "    }\n",
       "</style>\n",
       "<table border=\"1\" class=\"dataframe\">\n",
       "  <thead>\n",
       "    <tr style=\"text-align: right;\">\n",
       "      <th></th>\n",
       "      <th>customer_id</th>\n",
       "      <th>join_date</th>\n",
       "      <th>city_id</th>\n",
       "      <th>gender_id</th>\n",
       "      <th>gender_name</th>\n",
       "      <th>transaction_id</th>\n",
       "      <th>transaction_date</th>\n",
       "      <th>transaction_status</th>\n",
       "      <th>coupon_name</th>\n",
       "      <th>burn_date</th>\n",
       "      <th>branch_id</th>\n",
       "      <th>merchant_id</th>\n",
       "      <th>city_name</th>\n",
       "      <th>merchant_name</th>\n",
       "    </tr>\n",
       "  </thead>\n",
       "  <tbody>\n",
       "    <tr>\n",
       "      <th>0</th>\n",
       "      <td>1</td>\n",
       "      <td>2022-01-08</td>\n",
       "      <td>7</td>\n",
       "      <td>1</td>\n",
       "      <td>Male</td>\n",
       "      <td>178</td>\n",
       "      <td>2022-07-30</td>\n",
       "      <td>subscribed</td>\n",
       "      <td>SrP-866</td>\n",
       "      <td>0</td>\n",
       "      <td>8</td>\n",
       "      <td>20</td>\n",
       "      <td>Mansoura</td>\n",
       "      <td>Griffin-Leblanc</td>\n",
       "    </tr>\n",
       "    <tr>\n",
       "      <th>1</th>\n",
       "      <td>1</td>\n",
       "      <td>2022-01-08</td>\n",
       "      <td>7</td>\n",
       "      <td>1</td>\n",
       "      <td>Male</td>\n",
       "      <td>1929</td>\n",
       "      <td>2022-07-30</td>\n",
       "      <td>burned</td>\n",
       "      <td>QiG-754</td>\n",
       "      <td>2022-10-18</td>\n",
       "      <td>8</td>\n",
       "      <td>20</td>\n",
       "      <td>Mansoura</td>\n",
       "      <td>Griffin-Leblanc</td>\n",
       "    </tr>\n",
       "    <tr>\n",
       "      <th>2</th>\n",
       "      <td>91</td>\n",
       "      <td>2022-01-17</td>\n",
       "      <td>7</td>\n",
       "      <td>1</td>\n",
       "      <td>Male</td>\n",
       "      <td>4058</td>\n",
       "      <td>2023-05-01</td>\n",
       "      <td>subscribed</td>\n",
       "      <td>mhO-469</td>\n",
       "      <td>0</td>\n",
       "      <td>8</td>\n",
       "      <td>20</td>\n",
       "      <td>Mansoura</td>\n",
       "      <td>Griffin-Leblanc</td>\n",
       "    </tr>\n",
       "    <tr>\n",
       "      <th>3</th>\n",
       "      <td>165</td>\n",
       "      <td>2021-12-12</td>\n",
       "      <td>7</td>\n",
       "      <td>1</td>\n",
       "      <td>Male</td>\n",
       "      <td>1367</td>\n",
       "      <td>2023-07-23</td>\n",
       "      <td>burned</td>\n",
       "      <td>Ois-184</td>\n",
       "      <td>2023-08-18</td>\n",
       "      <td>8</td>\n",
       "      <td>20</td>\n",
       "      <td>Mansoura</td>\n",
       "      <td>Griffin-Leblanc</td>\n",
       "    </tr>\n",
       "    <tr>\n",
       "      <th>4</th>\n",
       "      <td>442</td>\n",
       "      <td>2023-11-02</td>\n",
       "      <td>7</td>\n",
       "      <td>1</td>\n",
       "      <td>Male</td>\n",
       "      <td>4098</td>\n",
       "      <td>2024-01-03</td>\n",
       "      <td>burned</td>\n",
       "      <td>sGR-086</td>\n",
       "      <td>2024-03-02</td>\n",
       "      <td>8</td>\n",
       "      <td>20</td>\n",
       "      <td>Mansoura</td>\n",
       "      <td>Griffin-Leblanc</td>\n",
       "    </tr>\n",
       "  </tbody>\n",
       "</table>\n",
       "</div>"
      ],
      "text/plain": [
       "   customer_id   join_date  city_id  gender_id gender_name  transaction_id  \\\n",
       "0            1  2022-01-08        7          1        Male             178   \n",
       "1            1  2022-01-08        7          1        Male            1929   \n",
       "2           91  2022-01-17        7          1        Male            4058   \n",
       "3          165  2021-12-12        7          1        Male            1367   \n",
       "4          442  2023-11-02        7          1        Male            4098   \n",
       "\n",
       "  transaction_date transaction_status coupon_name   burn_date  branch_id  \\\n",
       "0       2022-07-30         subscribed     SrP-866           0          8   \n",
       "1       2022-07-30             burned     QiG-754  2022-10-18          8   \n",
       "2       2023-05-01         subscribed     mhO-469           0          8   \n",
       "3       2023-07-23             burned     Ois-184  2023-08-18          8   \n",
       "4       2024-01-03             burned     sGR-086  2024-03-02          8   \n",
       "\n",
       "   merchant_id city_name    merchant_name  \n",
       "0           20  Mansoura  Griffin-Leblanc  \n",
       "1           20  Mansoura  Griffin-Leblanc  \n",
       "2           20  Mansoura  Griffin-Leblanc  \n",
       "3           20  Mansoura  Griffin-Leblanc  \n",
       "4           20  Mansoura  Griffin-Leblanc  "
      ]
     },
     "execution_count": 45,
     "metadata": {},
     "output_type": "execute_result"
    }
   ],
   "source": [
    "custmer_data = pd.merge(custmer_data,merchants,on=\"merchant_id\").fillna(0)\n",
    "custmer_data.head()"
   ]
  },
  {
   "cell_type": "code",
   "execution_count": 46,
   "id": "9ebebb79",
   "metadata": {},
   "outputs": [
    {
     "data": {
      "text/html": [
       "<div>\n",
       "<style scoped>\n",
       "    .dataframe tbody tr th:only-of-type {\n",
       "        vertical-align: middle;\n",
       "    }\n",
       "\n",
       "    .dataframe tbody tr th {\n",
       "        vertical-align: top;\n",
       "    }\n",
       "\n",
       "    .dataframe thead th {\n",
       "        text-align: right;\n",
       "    }\n",
       "</style>\n",
       "<table border=\"1\" class=\"dataframe\">\n",
       "  <thead>\n",
       "    <tr style=\"text-align: right;\">\n",
       "      <th></th>\n",
       "      <th>customer_id</th>\n",
       "      <th>join_date</th>\n",
       "      <th>city_id</th>\n",
       "      <th>gender_id</th>\n",
       "      <th>gender_name</th>\n",
       "      <th>transaction_id</th>\n",
       "      <th>transaction_date</th>\n",
       "      <th>transaction_status</th>\n",
       "      <th>coupon_name</th>\n",
       "      <th>burn_date</th>\n",
       "      <th>branch_id</th>\n",
       "      <th>merchant_id</th>\n",
       "      <th>city_name</th>\n",
       "      <th>merchant_name</th>\n",
       "    </tr>\n",
       "  </thead>\n",
       "  <tbody>\n",
       "    <tr>\n",
       "      <th>0</th>\n",
       "      <td>1</td>\n",
       "      <td>2022-01-08</td>\n",
       "      <td>7</td>\n",
       "      <td>1</td>\n",
       "      <td>Male</td>\n",
       "      <td>178</td>\n",
       "      <td>2022-07-30</td>\n",
       "      <td>subscribed</td>\n",
       "      <td>SrP-866</td>\n",
       "      <td>2022-07-30</td>\n",
       "      <td>8</td>\n",
       "      <td>20</td>\n",
       "      <td>Mansoura</td>\n",
       "      <td>Griffin-Leblanc</td>\n",
       "    </tr>\n",
       "    <tr>\n",
       "      <th>1</th>\n",
       "      <td>1</td>\n",
       "      <td>2022-01-08</td>\n",
       "      <td>7</td>\n",
       "      <td>1</td>\n",
       "      <td>Male</td>\n",
       "      <td>1929</td>\n",
       "      <td>2022-07-30</td>\n",
       "      <td>burned</td>\n",
       "      <td>QiG-754</td>\n",
       "      <td>2022-07-30</td>\n",
       "      <td>8</td>\n",
       "      <td>20</td>\n",
       "      <td>Mansoura</td>\n",
       "      <td>Griffin-Leblanc</td>\n",
       "    </tr>\n",
       "    <tr>\n",
       "      <th>2</th>\n",
       "      <td>91</td>\n",
       "      <td>2022-01-17</td>\n",
       "      <td>7</td>\n",
       "      <td>1</td>\n",
       "      <td>Male</td>\n",
       "      <td>4058</td>\n",
       "      <td>2023-05-01</td>\n",
       "      <td>subscribed</td>\n",
       "      <td>mhO-469</td>\n",
       "      <td>2023-05-01</td>\n",
       "      <td>8</td>\n",
       "      <td>20</td>\n",
       "      <td>Mansoura</td>\n",
       "      <td>Griffin-Leblanc</td>\n",
       "    </tr>\n",
       "    <tr>\n",
       "      <th>3</th>\n",
       "      <td>165</td>\n",
       "      <td>2021-12-12</td>\n",
       "      <td>7</td>\n",
       "      <td>1</td>\n",
       "      <td>Male</td>\n",
       "      <td>1367</td>\n",
       "      <td>2023-07-23</td>\n",
       "      <td>burned</td>\n",
       "      <td>Ois-184</td>\n",
       "      <td>2023-07-23</td>\n",
       "      <td>8</td>\n",
       "      <td>20</td>\n",
       "      <td>Mansoura</td>\n",
       "      <td>Griffin-Leblanc</td>\n",
       "    </tr>\n",
       "    <tr>\n",
       "      <th>4</th>\n",
       "      <td>442</td>\n",
       "      <td>2023-11-02</td>\n",
       "      <td>7</td>\n",
       "      <td>1</td>\n",
       "      <td>Male</td>\n",
       "      <td>4098</td>\n",
       "      <td>2024-01-03</td>\n",
       "      <td>burned</td>\n",
       "      <td>sGR-086</td>\n",
       "      <td>2024-01-03</td>\n",
       "      <td>8</td>\n",
       "      <td>20</td>\n",
       "      <td>Mansoura</td>\n",
       "      <td>Griffin-Leblanc</td>\n",
       "    </tr>\n",
       "  </tbody>\n",
       "</table>\n",
       "</div>"
      ],
      "text/plain": [
       "   customer_id  join_date  city_id  gender_id gender_name  transaction_id  \\\n",
       "0            1 2022-01-08        7          1        Male             178   \n",
       "1            1 2022-01-08        7          1        Male            1929   \n",
       "2           91 2022-01-17        7          1        Male            4058   \n",
       "3          165 2021-12-12        7          1        Male            1367   \n",
       "4          442 2023-11-02        7          1        Male            4098   \n",
       "\n",
       "  transaction_date transaction_status coupon_name  burn_date  branch_id  \\\n",
       "0       2022-07-30         subscribed     SrP-866 2022-07-30          8   \n",
       "1       2022-07-30             burned     QiG-754 2022-07-30          8   \n",
       "2       2023-05-01         subscribed     mhO-469 2023-05-01          8   \n",
       "3       2023-07-23             burned     Ois-184 2023-07-23          8   \n",
       "4       2024-01-03             burned     sGR-086 2024-01-03          8   \n",
       "\n",
       "   merchant_id city_name    merchant_name  \n",
       "0           20  Mansoura  Griffin-Leblanc  \n",
       "1           20  Mansoura  Griffin-Leblanc  \n",
       "2           20  Mansoura  Griffin-Leblanc  \n",
       "3           20  Mansoura  Griffin-Leblanc  \n",
       "4           20  Mansoura  Griffin-Leblanc  "
      ]
     },
     "execution_count": 46,
     "metadata": {},
     "output_type": "execute_result"
    }
   ],
   "source": [
    "custmer_data[\"join_date\"] = pd.to_datetime(custmer_data[\"join_date\"])\n",
    "custmer_data[\"transaction_date\"] = pd.to_datetime(custmer_data[\"transaction_date\"])\n",
    "custmer_data[\"burn_date\"] = pd.to_datetime(custmer_data[\"transaction_date\"])\n",
    "\n",
    "custmer_data.head()"
   ]
  },
  {
   "cell_type": "code",
   "execution_count": 47,
   "id": "db696224",
   "metadata": {},
   "outputs": [
    {
     "name": "stdout",
     "output_type": "stream",
     "text": [
      "<class 'pandas.core.frame.DataFrame'>\n",
      "Int64Index: 5000 entries, 0 to 4999\n",
      "Data columns (total 14 columns):\n",
      " #   Column              Non-Null Count  Dtype         \n",
      "---  ------              --------------  -----         \n",
      " 0   customer_id         5000 non-null   int64         \n",
      " 1   join_date           5000 non-null   datetime64[ns]\n",
      " 2   city_id             5000 non-null   int64         \n",
      " 3   gender_id           5000 non-null   int64         \n",
      " 4   gender_name         5000 non-null   object        \n",
      " 5   transaction_id      5000 non-null   int64         \n",
      " 6   transaction_date    5000 non-null   datetime64[ns]\n",
      " 7   transaction_status  5000 non-null   object        \n",
      " 8   coupon_name         5000 non-null   object        \n",
      " 9   burn_date           5000 non-null   datetime64[ns]\n",
      " 10  branch_id           5000 non-null   int64         \n",
      " 11  merchant_id         5000 non-null   int64         \n",
      " 12  city_name           5000 non-null   object        \n",
      " 13  merchant_name       5000 non-null   object        \n",
      "dtypes: datetime64[ns](3), int64(6), object(5)\n",
      "memory usage: 585.9+ KB\n"
     ]
    }
   ],
   "source": [
    "custmer_data.info()"
   ]
  },
  {
   "cell_type": "code",
   "execution_count": 78,
   "id": "7a8f1947",
   "metadata": {},
   "outputs": [
    {
     "data": {
      "text/plain": [
       "array([1, 0], dtype=int8)"
      ]
     },
     "execution_count": 78,
     "metadata": {},
     "output_type": "execute_result"
    }
   ],
   "source": [
    "custmer_data[\"transaction_status\"].unique()"
   ]
  },
  {
   "cell_type": "code",
   "execution_count": 80,
   "id": "90e7f8c1",
   "metadata": {},
   "outputs": [
    {
     "data": {
      "text/plain": [
       "array([3, 6, 1, 4, 0, 2, 7, 5], dtype=int8)"
      ]
     },
     "execution_count": 80,
     "metadata": {},
     "output_type": "execute_result"
    }
   ],
   "source": [
    "custmer_data[\"merchant_name\"].unique()"
   ]
  },
  {
   "cell_type": "code",
   "execution_count": 55,
   "id": "091adc6b",
   "metadata": {},
   "outputs": [],
   "source": [
    "custmer_data[\"gender_name_cat\"] = custmer_data[\"gender_name\"].astype(\"category\")\n",
    "custmer_data[\"gender_name\"] = custmer_data[\"gender_name_cat\"].cat.codes\n",
    "\n",
    "custmer_data[\"city_name_cat\"] = custmer_data[\"city_name\"].astype(\"category\")\n",
    "custmer_data[\"city_name\"] = custmer_data[\"city_name_cat\"].cat.codes\n",
    "\n",
    "custmer_data[\"merchant_name_cat\"] = custmer_data[\"merchant_name\"].astype(\"category\")\n",
    "custmer_data[\"merchant_name\"] = custmer_data[\"merchant_name_cat\"].cat.codes\n",
    "\n",
    "custmer_data[\"transaction_status_cat\"] = custmer_data[\"transaction_status\"].astype(\"category\")\n",
    "custmer_data[\"transaction_status\"] = custmer_data[\"transaction_status_cat\"].cat.codes\n",
    "\n",
    "custmer_data[\"coupon_name_cat\"] = custmer_data[\"coupon_name\"].astype(\"category\")\n",
    "custmer_data[\"coupon_name\"] = custmer_data[\"coupon_name_cat\"].cat.codes\n",
    "\n",
    "custmer_data = custmer_data.drop(columns=[\"coupon_name_cat\",\"transaction_status_cat\",\"merchant_name_cat\",\"city_name_cat\",\"gender_name_cat\"])"
   ]
  },
  {
   "cell_type": "code",
   "execution_count": 56,
   "id": "4722977a",
   "metadata": {},
   "outputs": [
    {
     "name": "stdout",
     "output_type": "stream",
     "text": [
      "<class 'pandas.core.frame.DataFrame'>\n",
      "Int64Index: 5000 entries, 0 to 4999\n",
      "Data columns (total 14 columns):\n",
      " #   Column              Non-Null Count  Dtype         \n",
      "---  ------              --------------  -----         \n",
      " 0   customer_id         5000 non-null   int64         \n",
      " 1   join_date           5000 non-null   datetime64[ns]\n",
      " 2   city_id             5000 non-null   int64         \n",
      " 3   gender_id           5000 non-null   int64         \n",
      " 4   gender_name         5000 non-null   int8          \n",
      " 5   transaction_id      5000 non-null   int64         \n",
      " 6   transaction_date    5000 non-null   datetime64[ns]\n",
      " 7   transaction_status  5000 non-null   int8          \n",
      " 8   coupon_name         5000 non-null   int16         \n",
      " 9   burn_date           5000 non-null   datetime64[ns]\n",
      " 10  branch_id           5000 non-null   int64         \n",
      " 11  merchant_id         5000 non-null   int64         \n",
      " 12  city_name           5000 non-null   int8          \n",
      " 13  merchant_name       5000 non-null   int8          \n",
      "dtypes: datetime64[ns](3), int16(1), int64(6), int8(4)\n",
      "memory usage: 419.9 KB\n"
     ]
    }
   ],
   "source": [
    "custmer_data.info()"
   ]
  },
  {
   "cell_type": "markdown",
   "id": "91cb7552",
   "metadata": {},
   "source": [
    "# EDA\n"
   ]
  },
  {
   "cell_type": "code",
   "execution_count": 57,
   "id": "56477760",
   "metadata": {},
   "outputs": [],
   "source": [
    "import matplotlib.pyplot as plt\n"
   ]
  },
  {
   "cell_type": "code",
   "execution_count": 70,
   "id": "77b72d92",
   "metadata": {},
   "outputs": [
    {
     "data": {
      "image/png": "[encoded data removed]",
      "text/plain": [
       "<Figure size 640x480 with 1 Axes>"
      ]
     },
     "metadata": {},
     "output_type": "display_data"
    }
   ],
   "source": [
    "cat_count=[]\n",
    "cat_pers = []\n",
    "cat = [\"males\",\"females\"]\n",
    "\n",
    "for i in range(2):\n",
    "    cat_count.append(custmer_data[\"gender_name\"].value_counts().values[i])\n",
    "    cat_pers.append(((custmer_data[\"gender_name\"].value_counts().values[i])/custmer_data.shape[0])*100)\n",
    "    \n",
    "plt.pie(cat_pers, labels=cat,colors=[\"#C3B091\",\"#FFB6C1\"],autopct=\"%1.1f%%\")\n",
    "plt.title(\"gender_name\")\n",
    "plt.show()"
   ]
  },
  {
   "cell_type": "code",
   "execution_count": 68,
   "id": "8d1d1a6a",
   "metadata": {},
   "outputs": [
    {
     "data": {
      "image/png": "[encoded data removed]",
      "text/plain": [
       "<Figure size 640x480 with 1 Axes>"
      ]
     },
     "metadata": {},
     "output_type": "display_data"
    }
   ],
   "source": [
    "cat_count=[]\n",
    "cat_pers = []\n",
    "cat = ['subscribed', 'burned']\n",
    "\n",
    "for i in range(2):\n",
    "    cat_count.append(custmer_data[\"transaction_status\"].value_counts().values[i])\n",
    "    cat_pers.append(((custmer_data[\"transaction_status\"].value_counts().values[i])/custmer_data.shape[0])*100)\n",
    "\n",
    "\n",
    "plt.pie(cat_pers, labels=cat,colors=[\"g\",\"r\"], autopct=\"%1.1f%%\")\n",
    "plt.title(\"transaction_status\")\n",
    "plt.show()"
   ]
  },
  {
   "cell_type": "code",
   "execution_count": 60,
   "id": "68e80b82",
   "metadata": {},
   "outputs": [
    {
     "data": {
      "image/png": "[encoded data removed]",
      "text/plain": [
       "<Figure size 500x500 with 1 Axes>"
      ]
     },
     "metadata": {},
     "output_type": "display_data"
    }
   ],
   "source": [
    "city_name_pers = []\n",
    "city_name = ['Mansoura', 'Aswan', 'El-Mahalla El-Kubra', 'Alexandria', 'Fayyum',\n",
    "       'Asyut', 'Minya', 'Qena', 'Shubra El-Kheima', 'Ismailia', 'Giza',\n",
    "       'Cairo', 'Zagazig', 'Tanta', 'Port Said', 'Damanhur', 'Sohag',\n",
    "       'Damietta', 'Beni Suef', 'Suez']\n",
    "\n",
    "for i in custmer_data[\"city_name\"].unique() :\n",
    "    city_name_pers.append((custmer_data[\"city_name\"]==i).sum())\n",
    "    \n",
    "plt.figure(figsize=(5,5))\n",
    "plt.barh(city_name,city_name_pers,color=\"k\")\n",
    "plt.title(\"city_distributions\")\n",
    "plt.show()\n"
   ]
  },
  {
   "cell_type": "code",
   "execution_count": 82,
   "id": "a5d24eb6",
   "metadata": {},
   "outputs": [
    {
     "data": {
      "image/png": "[encoded data removed]",
      "text/plain": [
       "<Figure size 500x500 with 1 Axes>"
      ]
     },
     "metadata": {},
     "output_type": "display_data"
    }
   ],
   "source": [
    "merchant_name_pers = []\n",
    "merchant_name = ['Griffin-Leblanc', 'Smith, Lawson and Hernandez', 'Butler-Gomez',\n",
    "       'Lewis LLC', 'Berry-Anderson', 'Campbell, Shaffer and Martinez',\n",
    "       'Thomas-Nelson', 'Medina-Foster']\n",
    "\n",
    "for i in custmer_data[\"merchant_name\"].unique() :\n",
    "    merchant_name_pers.append((custmer_data[\"merchant_name\"]==i).sum())\n",
    "    \n",
    "plt.figure(figsize=(5,5))\n",
    "plt.barh(merchant_name,merchant_name_pers,color=\"g\")\n",
    "plt.title(\"merchant_distributions\")\n",
    "plt.show()"
   ]
  },
  {
   "cell_type": "markdown",
   "id": "0c51af26",
   "metadata": {},
   "source": [
    "# Feature Selection and The Model Implementation\n"
   ]
  },
  {
   "cell_type": "code",
   "execution_count": 62,
   "id": "39920eae",
   "metadata": {},
   "outputs": [
    {
     "data": {
      "text/html": [
       "<div>\n",
       "<style scoped>\n",
       "    .dataframe tbody tr th:only-of-type {\n",
       "        vertical-align: middle;\n",
       "    }\n",
       "\n",
       "    .dataframe tbody tr th {\n",
       "        vertical-align: top;\n",
       "    }\n",
       "\n",
       "    .dataframe thead th {\n",
       "        text-align: right;\n",
       "    }\n",
       "</style>\n",
       "<table border=\"1\" class=\"dataframe\">\n",
       "  <thead>\n",
       "    <tr style=\"text-align: right;\">\n",
       "      <th></th>\n",
       "      <th>gender_name</th>\n",
       "      <th>coupon_name</th>\n",
       "      <th>city_name</th>\n",
       "      <th>merchant_name</th>\n",
       "    </tr>\n",
       "  </thead>\n",
       "  <tbody>\n",
       "    <tr>\n",
       "      <th>0</th>\n",
       "      <td>1</td>\n",
       "      <td>1800</td>\n",
       "      <td>11</td>\n",
       "      <td>3</td>\n",
       "    </tr>\n",
       "    <tr>\n",
       "      <th>1</th>\n",
       "      <td>1</td>\n",
       "      <td>1596</td>\n",
       "      <td>11</td>\n",
       "      <td>3</td>\n",
       "    </tr>\n",
       "    <tr>\n",
       "      <th>2</th>\n",
       "      <td>1</td>\n",
       "      <td>3703</td>\n",
       "      <td>11</td>\n",
       "      <td>3</td>\n",
       "    </tr>\n",
       "    <tr>\n",
       "      <th>3</th>\n",
       "      <td>1</td>\n",
       "      <td>1402</td>\n",
       "      <td>11</td>\n",
       "      <td>3</td>\n",
       "    </tr>\n",
       "    <tr>\n",
       "      <th>4</th>\n",
       "      <td>1</td>\n",
       "      <td>4257</td>\n",
       "      <td>11</td>\n",
       "      <td>3</td>\n",
       "    </tr>\n",
       "  </tbody>\n",
       "</table>\n",
       "</div>"
      ],
      "text/plain": [
       "   gender_name  coupon_name  city_name  merchant_name\n",
       "0            1         1800         11              3\n",
       "1            1         1596         11              3\n",
       "2            1         3703         11              3\n",
       "3            1         1402         11              3\n",
       "4            1         4257         11              3"
      ]
     },
     "execution_count": 62,
     "metadata": {},
     "output_type": "execute_result"
    }
   ],
   "source": [
    "feature = [\"gender_name\",\"coupon_name\",\"city_name\",\"merchant_name\"]\n",
    "x = custmer_data[feature]\n",
    "x.head()"
   ]
  },
  {
   "cell_type": "code",
   "execution_count": 71,
   "id": "c71067aa",
   "metadata": {},
   "outputs": [],
   "source": [
    "from sklearn.cluster import KMeans\n",
    "from sklearn.metrics import silhouette_score\n"
   ]
  },
  {
   "cell_type": "code",
   "execution_count": 72,
   "id": "c94f7039",
   "metadata": {},
   "outputs": [
    {
     "name": "stdout",
     "output_type": "stream",
     "text": [
      "For n_clusters = 2, the average silhouette_score is: 0.6265166126429738\n",
      "For n_clusters = 3, the average silhouette_score is: 0.589788392301078\n",
      "For n_clusters = 4, the average silhouette_score is: 0.5713211938564182\n",
      "For n_clusters = 5, the average silhouette_score is: 0.5602040471728882\n",
      "For n_clusters = 6, the average silhouette_score is: 0.5526896681204833\n",
      "For n_clusters = 7, the average silhouette_score is: 0.5471251103828018\n",
      "For n_clusters = 8, the average silhouette_score is: 0.5429873764046742\n",
      "For n_clusters = 9, the average silhouette_score is: 0.5389938575466421\n",
      "For n_clusters = 10, the average silhouette_score is: 0.5370318558744844\n",
      "For n_clusters = 11, the average silhouette_score is: 0.5337214050140401\n",
      "For n_clusters = 12, the average silhouette_score is: 0.5324742638696452\n",
      "For n_clusters = 13, the average silhouette_score is: 0.5310250828320044\n",
      "For n_clusters = 14, the average silhouette_score is: 0.5289549221022473\n",
      "For n_clusters = 15, the average silhouette_score is: 0.5274403532012788\n",
      "For n_clusters = 16, the average silhouette_score is: 0.5254961698385561\n",
      "For n_clusters = 17, the average silhouette_score is: 0.5251617748837594\n",
      "For n_clusters = 18, the average silhouette_score is: 0.5237583370859944\n",
      "For n_clusters = 19, the average silhouette_score is: 0.522481742779513\n"
     ]
    }
   ],
   "source": [
    "inertia = []\n",
    "silhouette_scores = []\n",
    "for n_clusters in range(2, 20):\n",
    "    kmeans = KMeans(n_clusters=n_clusters, random_state=42)\n",
    "    cluster_labels = kmeans.fit_predict(x)\n",
    "    inertia.append(kmeans.inertia_)\n",
    "    silhouette_avg = silhouette_score(x, cluster_labels)\n",
    "    silhouette_scores.append(silhouette_avg)\n",
    "    print(f\"For n_clusters = {n_clusters}, the average silhouette_score is: {silhouette_avg}\")\n"
   ]
  },
  {
   "cell_type": "code",
   "execution_count": 73,
   "id": "2382abda",
   "metadata": {},
   "outputs": [
    {
     "data": {
      "image/png": "[encoded data removed]",
      "text/plain": [
       "<Figure size 800x400 with 1 Axes>"
      ]
     },
     "metadata": {},
     "output_type": "display_data"
    }
   ],
   "source": [
    "plt.figure(figsize=(8, 4))\n",
    "plt.plot(range(2, 20), inertia,marker='o')\n",
    "plt.xlabel('Number of Clusters (K)')\n",
    "plt.ylabel('Inertia')\n",
    "plt.title('Elbow Method for Optimal K')\n",
    "plt.show()\n"
   ]
  },
  {
   "cell_type": "code",
   "execution_count": 74,
   "id": "f629ab8d",
   "metadata": {},
   "outputs": [
    {
     "data": {
      "text/html": [
       "<div>\n",
       "<style scoped>\n",
       "    .dataframe tbody tr th:only-of-type {\n",
       "        vertical-align: middle;\n",
       "    }\n",
       "\n",
       "    .dataframe tbody tr th {\n",
       "        vertical-align: top;\n",
       "    }\n",
       "\n",
       "    .dataframe thead th {\n",
       "        text-align: right;\n",
       "    }\n",
       "</style>\n",
       "<table border=\"1\" class=\"dataframe\">\n",
       "  <thead>\n",
       "    <tr style=\"text-align: right;\">\n",
       "      <th></th>\n",
       "      <th>customer_id</th>\n",
       "      <th>join_date</th>\n",
       "      <th>city_id</th>\n",
       "      <th>gender_id</th>\n",
       "      <th>gender_name</th>\n",
       "      <th>transaction_id</th>\n",
       "      <th>transaction_date</th>\n",
       "      <th>transaction_status</th>\n",
       "      <th>coupon_name</th>\n",
       "      <th>burn_date</th>\n",
       "      <th>branch_id</th>\n",
       "      <th>merchant_id</th>\n",
       "      <th>city_name</th>\n",
       "      <th>merchant_name</th>\n",
       "      <th>cluster</th>\n",
       "    </tr>\n",
       "  </thead>\n",
       "  <tbody>\n",
       "    <tr>\n",
       "      <th>0</th>\n",
       "      <td>1</td>\n",
       "      <td>2022-01-08</td>\n",
       "      <td>7</td>\n",
       "      <td>1</td>\n",
       "      <td>1</td>\n",
       "      <td>178</td>\n",
       "      <td>2022-07-30</td>\n",
       "      <td>1</td>\n",
       "      <td>1800</td>\n",
       "      <td>2022-07-30</td>\n",
       "      <td>8</td>\n",
       "      <td>20</td>\n",
       "      <td>11</td>\n",
       "      <td>3</td>\n",
       "      <td>0</td>\n",
       "    </tr>\n",
       "    <tr>\n",
       "      <th>1</th>\n",
       "      <td>1</td>\n",
       "      <td>2022-01-08</td>\n",
       "      <td>7</td>\n",
       "      <td>1</td>\n",
       "      <td>1</td>\n",
       "      <td>1929</td>\n",
       "      <td>2022-07-30</td>\n",
       "      <td>0</td>\n",
       "      <td>1596</td>\n",
       "      <td>2022-07-30</td>\n",
       "      <td>8</td>\n",
       "      <td>20</td>\n",
       "      <td>11</td>\n",
       "      <td>3</td>\n",
       "      <td>0</td>\n",
       "    </tr>\n",
       "    <tr>\n",
       "      <th>2</th>\n",
       "      <td>91</td>\n",
       "      <td>2022-01-17</td>\n",
       "      <td>7</td>\n",
       "      <td>1</td>\n",
       "      <td>1</td>\n",
       "      <td>4058</td>\n",
       "      <td>2023-05-01</td>\n",
       "      <td>1</td>\n",
       "      <td>3703</td>\n",
       "      <td>2023-05-01</td>\n",
       "      <td>8</td>\n",
       "      <td>20</td>\n",
       "      <td>11</td>\n",
       "      <td>3</td>\n",
       "      <td>1</td>\n",
       "    </tr>\n",
       "    <tr>\n",
       "      <th>3</th>\n",
       "      <td>165</td>\n",
       "      <td>2021-12-12</td>\n",
       "      <td>7</td>\n",
       "      <td>1</td>\n",
       "      <td>1</td>\n",
       "      <td>1367</td>\n",
       "      <td>2023-07-23</td>\n",
       "      <td>0</td>\n",
       "      <td>1402</td>\n",
       "      <td>2023-07-23</td>\n",
       "      <td>8</td>\n",
       "      <td>20</td>\n",
       "      <td>11</td>\n",
       "      <td>3</td>\n",
       "      <td>0</td>\n",
       "    </tr>\n",
       "    <tr>\n",
       "      <th>4</th>\n",
       "      <td>442</td>\n",
       "      <td>2023-11-02</td>\n",
       "      <td>7</td>\n",
       "      <td>1</td>\n",
       "      <td>1</td>\n",
       "      <td>4098</td>\n",
       "      <td>2024-01-03</td>\n",
       "      <td>0</td>\n",
       "      <td>4257</td>\n",
       "      <td>2024-01-03</td>\n",
       "      <td>8</td>\n",
       "      <td>20</td>\n",
       "      <td>11</td>\n",
       "      <td>3</td>\n",
       "      <td>2</td>\n",
       "    </tr>\n",
       "  </tbody>\n",
       "</table>\n",
       "</div>"
      ],
      "text/plain": [
       "   customer_id  join_date  city_id  gender_id  gender_name  transaction_id  \\\n",
       "0            1 2022-01-08        7          1            1             178   \n",
       "1            1 2022-01-08        7          1            1            1929   \n",
       "2           91 2022-01-17        7          1            1            4058   \n",
       "3          165 2021-12-12        7          1            1            1367   \n",
       "4          442 2023-11-02        7          1            1            4098   \n",
       "\n",
       "  transaction_date  transaction_status  coupon_name  burn_date  branch_id  \\\n",
       "0       2022-07-30                   1         1800 2022-07-30          8   \n",
       "1       2022-07-30                   0         1596 2022-07-30          8   \n",
       "2       2023-05-01                   1         3703 2023-05-01          8   \n",
       "3       2023-07-23                   0         1402 2023-07-23          8   \n",
       "4       2024-01-03                   0         4257 2024-01-03          8   \n",
       "\n",
       "   merchant_id  city_name  merchant_name  cluster  \n",
       "0           20         11              3        0  \n",
       "1           20         11              3        0  \n",
       "2           20         11              3        1  \n",
       "3           20         11              3        0  \n",
       "4           20         11              3        2  "
      ]
     },
     "execution_count": 74,
     "metadata": {},
     "output_type": "execute_result"
    }
   ],
   "source": [
    "optimal_k = 5  \n",
    "kmeans = KMeans(n_clusters=optimal_k, random_state=42)\n",
    "cluster_labels = kmeans.fit_predict(x)\n",
    "\n",
    "custmer_data['cluster'] = cluster_labels\n",
    "custmer_data.head()"
   ]
  },
  {
   "cell_type": "markdown",
   "id": "23ea0b1f",
   "metadata": {},
   "source": [
    "# Exploring The Clusters"
   ]
  },
  {
   "cell_type": "code",
   "execution_count": 75,
   "id": "0f1e0f7a",
   "metadata": {},
   "outputs": [
    {
     "name": "stdout",
     "output_type": "stream",
     "text": [
      "Segment 0:\n",
      "       gender_name  coupon_name   city_name  merchant_name\n",
      "count   996.000000   996.000000  996.000000     996.000000\n",
      "mean      0.528112  1500.500000    9.209839       3.546185\n",
      "std       0.499460   287.664735    5.744050       2.436093\n",
      "min       0.000000  1003.000000    0.000000       0.000000\n",
      "25%       0.000000  1251.750000    4.000000       1.000000\n",
      "50%       1.000000  1500.500000    9.000000       3.000000\n",
      "75%       1.000000  1749.250000   14.000000       6.000000\n",
      "max       1.000000  1998.000000   19.000000       7.000000\n",
      "Segment 1:\n",
      "       gender_name  coupon_name    city_name  merchant_name\n",
      "count  1000.000000  1000.000000  1000.000000    1000.000000\n",
      "mean      0.529000  3492.500000     9.374000       3.638000\n",
      "std       0.499408   288.819436     5.728083       2.454584\n",
      "min       0.000000  2993.000000     0.000000       0.000000\n",
      "25%       0.000000  3242.750000     4.000000       1.000000\n",
      "50%       1.000000  3492.500000     9.000000       4.000000\n",
      "75%       1.000000  3742.250000    14.000000       6.000000\n",
      "max       1.000000  3992.000000    19.000000       7.000000\n",
      "Segment 2:\n",
      "       gender_name  coupon_name    city_name  merchant_name\n",
      "count  1007.000000  1007.000000  1007.000000    1007.000000\n",
      "mean      0.474677  4496.000000     9.282026       3.584906\n",
      "std       0.499606   290.840162     5.641185       2.500197\n",
      "min       0.000000  3993.000000     0.000000       0.000000\n",
      "25%       0.000000  4244.500000     4.000000       1.000000\n",
      "50%       0.000000  4496.000000     9.000000       3.000000\n",
      "75%       1.000000  4747.500000    14.000000       6.000000\n",
      "max       1.000000  4999.000000    19.000000       7.000000\n",
      "Segment 3:\n",
      "       gender_name  coupon_name   city_name  merchant_name\n",
      "count   994.000000   994.000000  994.000000     994.000000\n",
      "mean      0.512072  2495.500000    9.653924       3.695171\n",
      "std       0.500106   287.087385    5.584015       2.494432\n",
      "min       0.000000  1999.000000    0.000000       0.000000\n",
      "25%       0.000000  2247.250000    5.000000       1.000000\n",
      "50%       1.000000  2495.500000   10.000000       4.000000\n",
      "75%       1.000000  2743.750000   14.000000       6.000000\n",
      "max       1.000000  2992.000000   19.000000       7.000000\n",
      "Segment 4:\n",
      "       gender_name  coupon_name    city_name  merchant_name\n",
      "count   1003.00000  1003.000000  1003.000000    1003.000000\n",
      "mean       0.52343   501.000000     9.126620       3.711864\n",
      "std        0.49970   289.685462     5.681756       2.488242\n",
      "min        0.00000     0.000000     0.000000       0.000000\n",
      "25%        0.00000   250.500000     4.000000       1.000000\n",
      "50%        1.00000   501.000000     9.000000       4.000000\n",
      "75%        1.00000   751.500000    14.000000       6.000000\n",
      "max        1.00000  1002.000000    19.000000       7.000000\n"
     ]
    }
   ],
   "source": [
    "for i in range(optimal_k):\n",
    "    print(f\"Segment {i}:\")\n",
    "    segment_data = custmer_data[custmer_data['cluster'] == i]\n",
    "    print(segment_data[feature].describe())"
   ]
  },
  {
   "cell_type": "code",
   "execution_count": null,
   "id": "9d4cc98d",
   "metadata": {},
   "outputs": [],
   "source": []
  }
 ],
 "metadata": {
  "kernelspec": {
   "display_name": "Python 3 (ipykernel)",
   "language": "python",
   "name": "python3"
  },
  "language_info": {
   "codemirror_mode": {
    "name": "ipython",
    "version": 3
   },
   "file_extension": ".py",
   "mimetype": "text/x-python",
   "name": "python",
   "nbconvert_exporter": "python",
   "pygments_lexer": "ipython3",
   "version": "3.9.13"
  }
 },
 "nbformat": 4,
 "nbformat_minor": 5
}
